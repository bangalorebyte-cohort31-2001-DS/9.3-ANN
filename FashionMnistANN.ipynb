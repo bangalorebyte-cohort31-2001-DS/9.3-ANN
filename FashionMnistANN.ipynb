{
 "cells": [
  {
   "cell_type": "markdown",
   "metadata": {},
   "source": [
    "# Predicting Fashion Dataset using Simple ANN artificial Nueral Network\n",
    "\n",
    "* this is an exact replica of the official tensorflow tutotrial at --> https://www.tensorflow.org/tutorials/keras/classification\n",
    "\n",
    "* Multiclass classification problem.\n",
    "\n",
    "* 70,000 grayscale images at 28\\*28 size. split into 10 categories\n",
    "\n",
    "  * 60,000 images on training and 10,000 images on testing.\n",
    "\n",
    "  * train and test set both contains two subset (train images, train labels , test images, test labels)\n",
    "\n",
    "  * images - each image is  28\\*28 with values ranging from 0-255.\n",
    "\n",
    "  * labels - is an array of values between 0-9\n",
    "\n",
    "    * 0--T-shirt/top \n",
    "\n",
    "    * 1-- Trouser\n",
    "\n",
    "    *  2-- Pullover \n",
    "\n",
    "    * 3 -- Dress \n",
    "\n",
    "    * 4 -- Coat \n",
    "\n",
    "    * 5 -- Sandal \n",
    "\n",
    "    * 6 -- Shirt \n",
    "\n",
    "    * 7 -- Sneaker \n",
    "\n",
    "    * 8-- Bag \n",
    "\n",
    "    * 9-- Ankle boot"
   ]
  },
  {
   "cell_type": "markdown",
   "metadata": {},
   "source": [
    "## Data Exploration\n",
    "\n",
    "---\n",
    "\n",
    "Information Validation"
   ]
  },
  {
   "cell_type": "code",
   "execution_count": 1,
   "metadata": {},
   "outputs": [
    {
     "name": "stdout",
     "output_type": "stream",
     "text": [
      "Tensorflow Version : 2.1.0\n"
     ]
    }
   ],
   "source": [
    "import tensorflow as tf\n",
    "print(f\"Tensorflow Version : {tf.__version__}\")\n",
    "# ensure that you have a tensorflow version above 2\n",
    "\n",
    "from tensorflow import keras\n",
    "%matplotlib inline\n",
    "import matplotlib.pyplot as plt"
   ]
  },
  {
   "cell_type": "code",
   "execution_count": 2,
   "metadata": {},
   "outputs": [],
   "source": [
    "#Load data from tensorflow library\n",
    "(x_train, y_train), (x_test, y_test) = keras.datasets.fashion_mnist.load_data()\n",
    "\n",
    "## We have our training as well as testing dataset inside the variables x_train, x_test and our targets in y_train and y_test"
   ]
  },
  {
   "cell_type": "code",
   "execution_count": 3,
   "metadata": {},
   "outputs": [
    {
     "name": "stdout",
     "output_type": "stream",
     "text": [
      "Shape of x_train :(60000, 28, 28)\n",
      "Shape of y_train :(60000,)\n",
      "Shape of x_test :(10000, 28, 28)\n",
      "Shape of y_test :(10000,)\n"
     ]
    }
   ],
   "source": [
    "print(f\"Shape of x_train :{x_train.shape}\")\n",
    "print(f\"Shape of y_train :{y_train.shape}\")\n",
    "print(f\"Shape of x_test :{x_test.shape}\")\n",
    "print(f\"Shape of y_test :{y_test.shape}\")\n",
    "\n",
    "## The information shared is valid, We have 70k images of 28*28 into train and test dataset. with 70k labels as an array "
   ]
  },
  {
   "cell_type": "code",
   "execution_count": 4,
   "metadata": {},
   "outputs": [
    {
     "name": "stdout",
     "output_type": "stream",
     "text": [
      "Minimum Value inside the a random image array : 0\n",
      "Maximum Value inside the a random image array : 255\n"
     ]
    }
   ],
   "source": [
    "## Checking if the values inside the array is between 0-255\n",
    "\n",
    "print(f\"Minimum Value inside the a random image array : {x_train[524].min()}\")\n",
    "print(f\"Maximum Value inside the a random image array : {x_train[524].max()}\")"
   ]
  },
  {
   "cell_type": "code",
   "execution_count": 5,
   "metadata": {},
   "outputs": [
    {
     "name": "stdout",
     "output_type": "stream",
     "text": [
      "Minium Value inside the y_train array :0\n",
      "Maximum Value inside the y_train array :9\n",
      "Unique values in y_train :{0, 1, 2, 3, 4, 5, 6, 7, 8, 9}\n"
     ]
    }
   ],
   "source": [
    "print(f\"Minium Value inside the y_train array :{y_train.min()}\")\n",
    "print(f\"Maximum Value inside the y_train array :{y_train.max()}\")\n",
    "print(f\"Unique values in y_train :{set(y_train)}\")"
   ]
  },
  {
   "cell_type": "code",
   "execution_count": 6,
   "metadata": {},
   "outputs": [
    {
     "name": "stdout",
     "output_type": "stream",
     "text": [
      "Label of the image : Ankle boot\n"
     ]
    },
    {
     "data": {
      "image/png": "[encoded data removed]",
      "text/plain": [
       "<Figure size 432x288 with 1 Axes>"
      ]
     },
     "metadata": {
      "needs_background": "light"
     },
     "output_type": "display_data"
    }
   ],
   "source": [
    "class_names = ['T-shirt/top', 'Trouser', 'Pullover', 'Dress', 'Coat',\n",
    "               'Sandal', 'Shirt', 'Sneaker', 'Bag', 'Ankle boot']\n",
    "## Validating the dataset and checking if labeling has been done properly\n",
    "num = 43987\n",
    "plt.imshow(x_train[num], cmap='gray')\n",
    "print(f\"Label of the image : {class_names[y_train[num]]}\")"
   ]
  },
  {
   "cell_type": "code",
   "execution_count": 8,
   "metadata": {},
   "outputs": [
    {
     "name": "stdout",
     "output_type": "stream",
     "text": [
      "Maximum value now in the image is 0.00392156862745098\n",
      "Minimum value now in the image is 0.0\n",
      "Label of the image : T-shirt/top\n"
     ]
    },
    {
     "data": {
      "text/plain": [
       "<matplotlib.image.AxesImage at 0x7f237922f450>"
      ]
     },
     "execution_count": 8,
     "metadata": {},
     "output_type": "execute_result"
    },
    {
     "data": {
      "image/png": "[encoded data removed]",
      "text/plain": [
       "<Figure size 432x288 with 1 Axes>"
      ]
     },
     "metadata": {
      "needs_background": "light"
     },
     "output_type": "display_data"
    }
   ],
   "source": [
    "# Data Preparation\n",
    "\n",
    "def my_normalize_function(data_array):\n",
    "    return data_array/255.0\n",
    "\n",
    "x_train = my_normalize_function(x_train)\n",
    "x_test = my_normalize_function(x_test)\n",
    "\n",
    "num = 46535\n",
    "print(f\"Maximum value now in the image is {x_train[num].max()}\")\n",
    "print(f\"Minimum value now in the image is {x_train[num].min()}\")\n",
    "\n",
    "plt.imshow(x_train[num], cmap='gray')\n",
    "print(f\"Label of the image : {class_names[y_train[num]]}\")\n",
    "\n",
    "\n",
    "\n",
    "plt.imshow(x_test[8543], cmap='gray')"
   ]
  },
  {
   "cell_type": "code",
   "execution_count": 9,
   "metadata": {},
   "outputs": [
    {
     "name": "stderr",
     "output_type": "stream",
     "text": [
      "Using TensorFlow backend.\n"
     ]
    }
   ],
   "source": [
    "x_train = x_train.reshape((60000, 28*28))\n",
    "x_test = x_test.reshape((10000, 28*28))\n",
    "\n",
    "from keras.utils import to_categorical\n",
    "y_train = to_categorical(y_train)\n",
    "y_test = to_categorical(y_test)"
   ]
  },
  {
   "cell_type": "code",
   "execution_count": 10,
   "metadata": {},
   "outputs": [],
   "source": [
    "# Model Preparation\n",
    "\n",
    "model  = keras.Sequential([\n",
    "    keras.layers.Dense(512, activation='relu', input_shape=(28*28,)),\n",
    "    keras.layers.Dense(10, activation='softmax')\n",
    "])\n",
    "model.compile(optimizer='rmsprop',\n",
    "              loss='categorical_crossentropy',\n",
    "              metrics=['accuracy'])"
   ]
  },
  {
   "cell_type": "code",
   "execution_count": 11,
   "metadata": {},
   "outputs": [
    {
     "name": "stdout",
     "output_type": "stream",
     "text": [
      "Train on 60000 samples\n",
      "Epoch 1/10\n",
      "60000/60000 [==============================] - 20s 333us/sample - loss: 0.8997 - accuracy: 0.7076\n",
      "Epoch 2/10\n",
      "60000/60000 [==============================] - 18s 304us/sample - loss: 0.5555 - accuracy: 0.8006\n",
      "Epoch 3/10\n",
      "60000/60000 [==============================] - 18s 302us/sample - loss: 0.4927 - accuracy: 0.8254\n",
      "Epoch 4/10\n",
      "60000/60000 [==============================] - 18s 303us/sample - loss: 0.4604 - accuracy: 0.8366\n",
      "Epoch 5/10\n",
      "60000/60000 [==============================] - 19s 317us/sample - loss: 0.4389 - accuracy: 0.8455\n",
      "Epoch 6/10\n",
      "60000/60000 [==============================] - 19s 310us/sample - loss: 0.4229 - accuracy: 0.8507\n",
      "Epoch 7/10\n",
      "60000/60000 [==============================] - 18s 294us/sample - loss: 0.4103 - accuracy: 0.8549\n",
      "Epoch 8/10\n",
      "60000/60000 [==============================] - 18s 304us/sample - loss: 0.4005 - accuracy: 0.8585\n",
      "Epoch 9/10\n",
      "60000/60000 [==============================] - 14s 234us/sample - loss: 0.3903 - accuracy: 0.8613\n",
      "Epoch 10/10\n",
      "60000/60000 [==============================] - 12s 205us/sample - loss: 0.3825 - accuracy: 0.8656\n"
     ]
    },
    {
     "data": {
      "text/plain": [
       "<tensorflow.python.keras.callbacks.History at 0x7f237074abd0>"
      ]
     },
     "execution_count": 11,
     "metadata": {},
     "output_type": "execute_result"
    }
   ],
   "source": [
    "model.fit(x_train, y_train, epochs=10, batch_size = 32)"
   ]
  },
  {
   "cell_type": "code",
   "execution_count": 15,
   "metadata": {},
   "outputs": [
    {
     "name": "stdout",
     "output_type": "stream",
     "text": [
      "10000/10000 - 1s - loss: 0.4158 - accuracy: 0.8539\n",
      "\n",
      "Test accuracy: 0.8539\n"
     ]
    }
   ],
   "source": [
    "test_loss, test_acc = model.evaluate(x_test,  y_test, verbose=2)\n",
    "\n",
    "print('\\nTest accuracy:', test_acc)"
   ]
  },
  {
   "cell_type": "code",
   "execution_count": 16,
   "metadata": {},
   "outputs": [],
   "source": [
    "predictions = model.predict(x_test)\n",
    "# x_test[0].shape"
   ]
  },
  {
   "cell_type": "code",
   "execution_count": 18,
   "metadata": {},
   "outputs": [
    {
     "name": "stdout",
     "output_type": "stream",
     "text": [
      "Shirt\n"
     ]
    }
   ],
   "source": [
    "import numpy as np\n",
    "print(class_names[np.argmax(predictions[8543])])\n",
    "\n",
    "\n",
    "# plt.imshow(x_test[8543], cmap='gray')"
   ]
  },
  {
   "cell_type": "code",
   "execution_count": null,
   "metadata": {},
   "outputs": [],
   "source": []
  }
 ],
 "metadata": {
  "kernelspec": {
   "display_name": "Python 3",
   "language": "python",
   "name": "python3"
  },
  "language_info": {
   "codemirror_mode": {
    "name": "ipython",
    "version": 3
   },
   "file_extension": ".py",
   "mimetype": "text/x-python",
   "name": "python",
   "nbconvert_exporter": "python",
   "pygments_lexer": "ipython3",
   "version": "3.7.4"
  }
 },
 "nbformat": 4,
 "nbformat_minor": 4
}
